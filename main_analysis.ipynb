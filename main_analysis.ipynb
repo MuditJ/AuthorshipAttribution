{
 "cells": [
  {
   "cell_type": "code",
   "execution_count": 27,
   "metadata": {},
   "outputs": [],
   "source": [
    "import csv,os,re\n",
    "import pandas as pd\n",
    "import numpy as np\n",
    "import matplotlib.pyplot as plt"
   ]
  },
  {
   "cell_type": "code",
   "execution_count": 2,
   "metadata": {},
   "outputs": [],
   "source": [
    "import nltk\n",
    "import sklearn"
   ]
  },
  {
   "cell_type": "code",
   "execution_count": 3,
   "metadata": {},
   "outputs": [],
   "source": [
    "os.chdir(os.path.join(os.getcwd(),'Data/'))"
   ]
  },
  {
   "cell_type": "code",
   "execution_count": 4,
   "metadata": {},
   "outputs": [],
   "source": [
    "data_df = pd.read_csv('dataset.csv',names=['Author','Text'])"
   ]
  },
  {
   "cell_type": "code",
   "execution_count": 5,
   "metadata": {},
   "outputs": [
    {
     "data": {
      "text/plain": [
       "50"
      ]
     },
     "execution_count": 5,
     "metadata": {},
     "output_type": "execute_result"
    }
   ],
   "source": [
    "len(data_df['Author'].value_counts())"
   ]
  },
  {
   "cell_type": "code",
   "execution_count": 51,
   "metadata": {},
   "outputs": [],
   "source": [
    "data_df['Text'] = data_df['Text'].map(lambda x: re.sub('\\r|\\n|\\'','',x))\n",
    "data_df['Text'] = data_df['Text'].map(lambda x: re.sub(r'--\\d\\d\\d-\\d\\d\\d-\\d\\d\\d\\d','',x))"
   ]
  },
  {
   "cell_type": "code",
   "execution_count": 18,
   "metadata": {},
   "outputs": [
    {
     "name": "stderr",
     "output_type": "stream",
     "text": [
      "C:\\Users\\Mudit\\Anaconda3\\lib\\site-packages\\sklearn\\cross_validation.py:41: DeprecationWarning: This module was deprecated in version 0.18 in favor of the model_selection module into which all the refactored classes and functions are moved. Also note that the interface of the new CV iterators are different from that of this module. This module will be removed in 0.20.\n",
      "  \"This module will be removed in 0.20.\", DeprecationWarning)\n"
     ]
    }
   ],
   "source": [
    "#from sklearn.cross_validation import train_test_split\n"
   ]
  },
  {
   "cell_type": "code",
   "execution_count": 38,
   "metadata": {},
   "outputs": [],
   "source": [
    "#data_df.head()\n",
    "#Generate corpus of words for use by the CountVectorizer\n",
    "corpus = []\n",
    "for text in data_df['Text']:\n",
    "    corpus.append(text)"
   ]
  },
  {
   "cell_type": "code",
   "execution_count": 53,
   "metadata": {},
   "outputs": [
    {
     "data": {
      "text/plain": [
       "'The number of banks charging non-customers for using their automated teller machines doubled over the past six months, a consumer watchdog group said Tuesday.About 45 percent of ATMs added the controversial surcharge, on top of the fee most consumers already pay their own banks for using another banks machine, up from 23 percent in October, according to a survey by U.S. Public Interest Research Group.The non-profit consumer advocacy group also found that the average fee had risen 20 percent to $1.15 from 96 cents.\"Banks arent earning money the old-fashioned way. Instead, theyre gouging consumers,\" Edmund Mierzwinski, program director for the group, told a press conference.Two states, Connecticut and Iowa, have banned the practice of charging non-customers and 12 other states, along with the federal government, are considering similar legislation.Mierzwinski endorsed those efforts and said consumers should avoid using machines that impose a surcharge.The rise in fees followed a decision one year ago by the two largest ATM networks, Visas Plus and Mastercards Cirrus, to lift a prohibition on surcharges.Banks defended the practice and said the additional fees helped pay for ATMs in new locations.\"The marketplace should decide the prices for ATMs, not the government,\" the American Bankers Association said in a statement. \"Price controls will only inhibit innovation and put a halt to future ATM growth.\"Banks added almost 17,000 new ATMs last year, a 13 percent increase, according to a survey by the publication Bank Network News. With surcharges now permitted, \"ATM growth is accelerating,\" editor Don Davis said. \"Its a better business to be in, so more people are getting in.\"Big banks were more likely than smaller ones to impose a surcharge, according to the survey. Among the 300 largest banks, 53 percent of ATMs had a fee while only 40 percent of smaller bank ATMs and 6 percent of credit union ATMs charged a fee.That could raise antitrust law implications if large banks banded together to impose fees and drive smaller competitors out of business, Mierzwinski charged. \"Not only are big banks using their monopoly muscle to punish consumers with higer fees, but their strategy is to use the surcharge to hurt small banks and credit unions as well,\" he said.Customers of small banks, which have fewer of their own ATMs, would likely have to pay a surcharge more often.Banks say free-market competition is functioning properly. \"Competitions is already keeping ATM pricing in check,\" the ABA said.The consumer group said it surveyed 860 ATMs chosen at random in 27 states and the District of Columbia. The highest rates of surcharging were in the South, with 93 percent of Texas ATMs imposing a surcharge, 95 percent in Georgia, and 88 percent in Viginia and North Carolina, the group said.((--202-898-8312))'"
      ]
     },
     "execution_count": 53,
     "metadata": {},
     "output_type": "execute_result"
    }
   ],
   "source": [
    "#from sklearn.feature_extraction.text import CountVectorizer\n",
    "corpus[11]"
   ]
  },
  {
   "cell_type": "code",
   "execution_count": 37,
   "metadata": {},
   "outputs": [
    {
     "data": {
      "text/plain": [
       "'U.S. Senators on Tuesday sharply criticized a new Securities and Exchange Commission rule forcing companies to disclose their use of derivatives.Both the SEC and the Financial Accounting Standards Board have issued proposals to make companies disclose more about derivatives use following some high-profile losses on the complex instruments in 1994.  Derivatives, financial instruments such as options and futures whose value is based on an underlying stock or commodity price, were involved in the bankruptcy of Orange County, Calif., and losses exceeding $100 million at Procter &amp; Gamble Co.The SEC adopted its rules last month, while the FASB is still working on its proposal.On Capitol Hill on Tuesday, senators took aim at both approaches, charging that the added expenses and complications would discourage companies from properly using derivatives to reduce risk.  \"One of my chief concerns when I came to the Senate in 1993 was whether we had too many unnecessary rules and regulations,\" North Carolina Republican Sen. Lauch Faircloth said at a hearing of the Senate Banking Committees securities subcommittee. \"I am concerned this may be the case with the SECs new rule.\"\"At this juncture, I dont agree with the direction were heading in,\" Faircloth added.FASB is a private organization that makes accounting standards, but the SEC must approve its rules to make them binding on public companies.  Senators questioned whether the the recent rule proposals adequately addressed the 1994 problems. While the rules focus on derivatives, the 1994 situations were caused not by the instruments but by the people in charge of those investments, Sen. Christopher Dodd said.\"I think what most of us concluded was the problem there was not the instrument but the human element,\" the Connecticut Democrat said.And neither rule would affect Orange County, a municipal government not bound by most FASB or SEC rules, the legislators observed.  \"Interestingly enough, the regulation, as almost always happens, doesnt even apply to Orange County -- it applies to corporate America,\" said Sen. Phil Gramm, who presided over the hearing.Gramm opened the hearing expressing his doubts about the rules. After hearing from industry representatives and SEC commissioner Steven Wallman, the Texas Republican said he was still worried.\"Im not converted,\" Gramm said. \"In fact, every concern I had at the beginning, I have even more now.\"  Gramm was a prominent opponent of the accounting board in an earlier dispute over proposed rules on executive stock options.In an unprecedented vote, the Senate passed a non-binding resolution in 1994 urging FASB to abandon the plan that would have required companies to reduce earnings to account for the value of stock options granted to executives. A few months after the vote, the board quashed the proposal.That was the only previous time he took on the FASB, Gramm said after Tuesdays hearing. \"I just never could figure out where they were coming from,\" he said.  The Republican Congress has since passed a law allowing legislators to overturn agency rules directly, Gramm said. \"I think we have the power in Congress to override the regulation if we decided to,\" he said, but added \"I havent made that decision.\"Commissioner Wallman defended the new rules and said the SEC had made several changes from an earlier proposal to address industry complaints.He denied the rules would discourage companies from properly using derivatives to manage and reduce business risk.\"Quite the opposite, the better investors understand the potential impact of market-sensitive instruments on their investments, the more likely it is that management will be able to engage in appropriate risk management,\" Wallman said.--Aaron Pressman ((202-898-8312))'"
      ]
     },
     "execution_count": 37,
     "metadata": {},
     "output_type": "execute_result"
    }
   ],
   "source": [
    "data_df.iloc[0]['Text']"
   ]
  },
  {
   "cell_type": "code",
   "execution_count": null,
   "metadata": {},
   "outputs": [],
   "source": []
  }
 ],
 "metadata": {
  "kernelspec": {
   "display_name": "Python 3",
   "language": "python",
   "name": "python3"
  },
  "language_info": {
   "codemirror_mode": {
    "name": "ipython",
    "version": 3
   },
   "file_extension": ".py",
   "mimetype": "text/x-python",
   "name": "python",
   "nbconvert_exporter": "python",
   "pygments_lexer": "ipython3",
   "version": "3.6.5"
  }
 },
 "nbformat": 4,
 "nbformat_minor": 2
}
